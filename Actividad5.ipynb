{
 "cells": [
  {
   "cell_type": "code",
   "execution_count": 1,
   "metadata": {},
   "outputs": [],
   "source": [
    "import matplotlib.pyplot as plt\n",
    "import pandas as pd\n",
    "import numpy as np"
   ]
  },
  {
   "cell_type": "code",
   "execution_count": 2,
   "metadata": {},
   "outputs": [
    {
     "name": "stdout",
     "output_type": "stream",
     "text": [
      "<class 'pandas.core.frame.DataFrame'>\n",
      "RangeIndex: 22735 entries, 0 to 22734\n",
      "Data columns (total 39 columns):\n",
      " #   Column              Non-Null Count  Dtype         \n",
      "---  ------              --------------  -----         \n",
      " 0   folio               22735 non-null  int64         \n",
      " 1   tag                 22735 non-null  object        \n",
      " 2   folio_solicitud     22735 non-null  int64         \n",
      " 3   fecha               22735 non-null  datetime64[ns]\n",
      " 4   marca               22735 non-null  object        \n",
      " 5   modelo              22735 non-null  object        \n",
      " 6   plazo               22735 non-null  object        \n",
      " 7   precio              22735 non-null  float64       \n",
      " 8   enganche            22735 non-null  float64       \n",
      " 9   descuento           22735 non-null  float64       \n",
      " 10  semana              22735 non-null  int64         \n",
      " 11  monto_financiado    22735 non-null  float64       \n",
      " 12  costo_total         22735 non-null  int64         \n",
      " 13  monto_accesorios    22735 non-null  float64       \n",
      " 14  agente_venta        22735 non-null  object        \n",
      " 15  dis_venta           22735 non-null  object        \n",
      " 16  status              22735 non-null  int64         \n",
      " 17  fraude              22735 non-null  int64         \n",
      " 18  empresa             22722 non-null  object        \n",
      " 19  inversion           22735 non-null  int64         \n",
      " 20  pagos_realizados    22735 non-null  int64         \n",
      " 21  reautorizacion      22735 non-null  int64         \n",
      " 22  fecha_ultimo_pago   19379 non-null  datetime64[ns]\n",
      " 23  fecha_pago_proximo  19379 non-null  datetime64[ns]\n",
      " 24  status_cuenta       19421 non-null  object        \n",
      " 25  puntos              22735 non-null  int64         \n",
      " 26  riesgo              22735 non-null  float64       \n",
      " 27  score_buro          22735 non-null  int64         \n",
      " 28  razones_buro        15395 non-null  object        \n",
      " 29  porc_eng            22735 non-null  float64       \n",
      " 30  limite_credito      22735 non-null  int64         \n",
      " 31  semana_actual       22735 non-null  int64         \n",
      " 32  cp_cliente          15492 non-null  object        \n",
      " 33  edad_cliente        9627 non-null   float64       \n",
      " 34  cd_cliente          22735 non-null  object        \n",
      " 35  edo_cliente         22735 non-null  object        \n",
      " 36  cd_venta            22735 non-null  object        \n",
      " 37  edo_venta           22735 non-null  object        \n",
      " 38  curp                22735 non-null  object        \n",
      "dtypes: datetime64[ns](3), float64(8), int64(13), object(15)\n",
      "memory usage: 6.8+ MB\n"
     ]
    }
   ],
   "source": [
    "df =pd.read_excel(\"df_limpio.xlsx\")\n",
    "df.info()"
   ]
  },
  {
   "cell_type": "markdown",
   "metadata": {},
   "source": [
    "**PRECIO**"
   ]
  },
  {
   "cell_type": "markdown",
   "metadata": {},
   "source": [
    "Vamos a analizar la variable \"precio\" debido a que esta será nuestra varaible dependinte que pasará a convertirse en variable diatónica.\n",
    "Gama baja - Gama media"
   ]
  },
  {
   "cell_type": "code",
   "execution_count": 3,
   "metadata": {},
   "outputs": [
    {
     "name": "stdout",
     "output_type": "stream",
     "text": [
      "count    22735.000000\n",
      "mean      3997.036591\n",
      "std       1361.507164\n",
      "min        973.240000\n",
      "25%       3049.000000\n",
      "50%       3549.000000\n",
      "75%       4899.000000\n",
      "max      14900.000000\n",
      "Name: precio, dtype: float64\n"
     ]
    }
   ],
   "source": [
    "precioStats = df[\"precio\"].describe()\n",
    "print(precioStats)"
   ]
  },
  {
   "cell_type": "code",
   "execution_count": 4,
   "metadata": {},
   "outputs": [],
   "source": [
    "# Elegimos las variables de interés para poner a prueba el modelo\n",
    "precio = df.iloc[ : , [8,9,11,12,13,25,26,27,29,30,7]]"
   ]
  },
  {
   "cell_type": "code",
   "execution_count": 5,
   "metadata": {},
   "outputs": [
    {
     "name": "stdout",
     "output_type": "stream",
     "text": [
      "       folio       tag  folio_solicitud               fecha     marca  \\\n",
      "0          3  HDNAWQ3A               30 2021-11-12 19:00:00       ZTE   \n",
      "1          4  M418YNR4               33 2021-11-12 19:15:00  MOTOROLA   \n",
      "2          5  SZ7V3NZT               37 2021-11-13 14:13:00       ZTE   \n",
      "3          6  9I08UIQZ               38 2021-11-13 15:45:00       ZTE   \n",
      "4          7  JMF4LKYU               44 2021-11-13 16:10:00  MOTOROLA   \n",
      "...      ...       ...              ...                 ...       ...   \n",
      "22730  22967  92KQVRIX            96502 2023-04-18 18:45:00  Motorola   \n",
      "22731  22968  NWB2EA8J            96479 2023-04-18 18:46:00  Motorola   \n",
      "22732  22969  VDTRJ2W6            96442 2023-04-18 18:47:00   Samsung   \n",
      "22733  22970  PETLF56C            96536 2023-04-18 18:49:00   Samsung   \n",
      "22734  22971  2CI4N2WS            96534 2023-04-18 18:49:00   Samsung   \n",
      "\n",
      "                             modelo plazo  precio  enganche  descuento  ...  \\\n",
      "0                Blade A3 2020 RO B   26S  1949.0     780.0        0.0  ...   \n",
      "1      LTE XT2097-12 E7I POWER Azul   13S  2999.0    1050.0        0.0  ...   \n",
      "2                BLADE A3 2020 Gris   13S  1959.0     490.0        0.0  ...   \n",
      "3                BLADE A3 2020 Gris   13S  1959.0     490.0        0.0  ...   \n",
      "4                             G10 B   39S  4299.0    1075.0        0.0  ...   \n",
      "...                             ...   ...     ...       ...        ...  ...   \n",
      "22730                      Moto E13   26S  3349.0     297.0        0.0  ...   \n",
      "22731                     Moto E22i   26S  4100.0    1209.0        0.0  ...   \n",
      "22732                           A13   26S  4849.0    1152.0        0.0  ...   \n",
      "22733                        A53 5G   39S  9799.0    2799.0        0.0  ...   \n",
      "22734                        A22 5G   26S  5399.0    1086.0        0.0  ...   \n",
      "\n",
      "       porc_eng  limite_credito  semana_actual  cp_cliente edad_cliente  \\\n",
      "0         40.02            5000             26         NaN         23.0   \n",
      "1         35.01            6000             13         NaN         60.0   \n",
      "2         25.01               0             74         NaN         58.0   \n",
      "3         25.01            7000             13         NaN         42.0   \n",
      "4         25.01            7000             74         NaN         33.0   \n",
      "...         ...             ...            ...         ...          ...   \n",
      "22730      8.87           10000              0       97880          NaN   \n",
      "22731     29.49            5000              0       37295          NaN   \n",
      "22732     23.76            4750              0       20210          NaN   \n",
      "22733     28.56            7000              0       78434          NaN   \n",
      "22734     20.11            4750              0       43800          NaN   \n",
      "\n",
      "        cd_cliente  edo_cliente                     cd_venta  \\\n",
      "0                0            0                    Tantoyuca   \n",
      "1          PUEBLA          PUE.   Heroica Puebla de Zaragoza   \n",
      "2        TANTOYUCA         VER.                            0   \n",
      "3      AMXTLAN PUE            0                     Zacatlan   \n",
      "4       TANTOYUCA          VER.                    Tantoyuca   \n",
      "...            ...          ...                          ...   \n",
      "22730            0          YUC                    Oxkutzcab   \n",
      "22731            0          GTO                         Leon   \n",
      "22732            0          AGS               Aguascalientes   \n",
      "22733            0          SLP  Soledad De Graciano Sanchez   \n",
      "22734            0          HGO            San Jose Del Cabo   \n",
      "\n",
      "                 edo_venta                curp  \n",
      "0                 Veracruz  AEVM980413MVZNDR02  \n",
      "1                   Puebla  ZALC610119MPLPRR07  \n",
      "2                        0                   0  \n",
      "3                   Puebla  SAMJ790115MPLNRS02  \n",
      "4                 Veracruz  TEHF880707HVZRRR07  \n",
      "...                    ...                 ...  \n",
      "22730              Yucatan  PACT990804MYNCCH05  \n",
      "22731           Guanajuato  HEGB950620MGTRMN03  \n",
      "22732       Aguascalientes  GADF870205HASLZL07  \n",
      "22733      San Luis Potosi  DELJ700417HSPLRS03  \n",
      "22734  Baja California Sur  RASI030731HDFMRSA1  \n",
      "\n",
      "[22735 rows x 39 columns]\n"
     ]
    },
    {
     "name": "stderr",
     "output_type": "stream",
     "text": [
      "C:\\Users\\Carlos Casillas\\AppData\\Local\\Temp\\ipykernel_15964\\2003049238.py:12: SettingWithCopyWarning: \n",
      "A value is trying to be set on a copy of a slice from a DataFrame.\n",
      "Try using .loc[row_indexer,col_indexer] = value instead\n",
      "\n",
      "See the caveats in the documentation: https://pandas.pydata.org/pandas-docs/stable/user_guide/indexing.html#returning-a-view-versus-a-copy\n",
      "  precio['PrecioGama'] = precio[\"precio\"].apply(categorizar_valor)\n"
     ]
    }
   ],
   "source": [
    "\n",
    "# Calcular la media de la columna\n",
    "meanPrecio = precio[\"precio\"].mean()\n",
    "\n",
    "# Definir una función que asignará la categoría\n",
    "def categorizar_valor(valor):\n",
    "    if valor > meanPrecio:\n",
    "        return 'Gama media'\n",
    "    else:\n",
    "        return 'Gama baja'\n",
    "\n",
    "# Aplicar la función a la columna y crear una nueva columna con las categorías\n",
    "precio['PrecioGama'] = precio[\"precio\"].apply(categorizar_valor)\n",
    "\n",
    "# Mostrar el DataFrame resultante\n",
    "print(df)\n"
   ]
  },
  {
   "cell_type": "code",
   "execution_count": null,
   "metadata": {},
   "outputs": [],
   "source": []
  },
  {
   "cell_type": "code",
   "execution_count": null,
   "metadata": {},
   "outputs": [],
   "source": []
  },
  {
   "cell_type": "markdown",
   "metadata": {},
   "source": [
    "**PUNTOS**"
   ]
  },
  {
   "cell_type": "markdown",
   "metadata": {},
   "source": [
    "**SOCREBURO**"
   ]
  },
  {
   "cell_type": "markdown",
   "metadata": {},
   "source": [
    "**PORCENTAJE DE ENGANCHE**"
   ]
  }
 ],
 "metadata": {
  "kernelspec": {
   "display_name": "Python 3",
   "language": "python",
   "name": "python3"
  },
  "language_info": {
   "codemirror_mode": {
    "name": "ipython",
    "version": 3
   },
   "file_extension": ".py",
   "mimetype": "text/x-python",
   "name": "python",
   "nbconvert_exporter": "python",
   "pygments_lexer": "ipython3",
   "version": "3.11.4"
  }
 },
 "nbformat": 4,
 "nbformat_minor": 2
}
