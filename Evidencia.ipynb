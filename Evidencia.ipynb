{
 "cells": [
  {
   "cell_type": "code",
   "execution_count": 186,
   "metadata": {},
   "outputs": [],
   "source": [
    "import pandas as pd\n",
    "import numpy as np\n",
    "import matplotlib.pyplot as plt\n",
    "from sklearn.model_selection import train_test_split #generar set de prueba\n",
    "from sklearn.linear_model import LogisticRegression #regresión logística\n",
    "from sklearn.metrics import accuracy_score, classification_report, confusion_matrix, roc_curve, roc_auc_score\n",
    "import matplotlib.pyplot as plt\n"
   ]
  },
  {
   "cell_type": "code",
   "execution_count": 187,
   "metadata": {},
   "outputs": [
    {
     "name": "stdout",
     "output_type": "stream",
     "text": [
      "<class 'pandas.core.frame.DataFrame'>\n",
      "RangeIndex: 22735 entries, 0 to 22734\n",
      "Data columns (total 39 columns):\n",
      " #   Column              Non-Null Count  Dtype         \n",
      "---  ------              --------------  -----         \n",
      " 0   folio               22735 non-null  int64         \n",
      " 1   tag                 22735 non-null  object        \n",
      " 2   folio_solicitud     22735 non-null  int64         \n",
      " 3   fecha               22735 non-null  datetime64[ns]\n",
      " 4   marca               22735 non-null  object        \n",
      " 5   modelo              22735 non-null  object        \n",
      " 6   plazo               22735 non-null  int64         \n",
      " 7   precio              22735 non-null  float64       \n",
      " 8   enganche            22735 non-null  float64       \n",
      " 9   descuento           22735 non-null  float64       \n",
      " 10  semana              22735 non-null  int64         \n",
      " 11  monto_financiado    22735 non-null  float64       \n",
      " 12  costo_total         22735 non-null  int64         \n",
      " 13  monto_accesorios    22735 non-null  float64       \n",
      " 14  agente_venta        22735 non-null  object        \n",
      " 15  dis_venta           22735 non-null  object        \n",
      " 16  status              22735 non-null  int64         \n",
      " 17  fraude              22735 non-null  int64         \n",
      " 18  empresa             22722 non-null  object        \n",
      " 19  inversion           22735 non-null  int64         \n",
      " 20  pagos_realizados    22735 non-null  int64         \n",
      " 21  reautorizacion      22735 non-null  int64         \n",
      " 22  fecha_ultimo_pago   19379 non-null  datetime64[ns]\n",
      " 23  fecha_pago_proximo  19379 non-null  datetime64[ns]\n",
      " 24  status_cuenta       19421 non-null  object        \n",
      " 25  puntos              22735 non-null  int64         \n",
      " 26  riesgo              22735 non-null  float64       \n",
      " 27  score_buro          22735 non-null  int64         \n",
      " 28  razones_buro        15395 non-null  object        \n",
      " 29  porc_eng            22735 non-null  float64       \n",
      " 30  limite_credito      22735 non-null  int64         \n",
      " 31  semana_actual       22735 non-null  int64         \n",
      " 32  cp_cliente          15492 non-null  object        \n",
      " 33  edad_cliente        9627 non-null   float64       \n",
      " 34  cd_cliente          22735 non-null  object        \n",
      " 35  edo_cliente         22735 non-null  object        \n",
      " 36  cd_venta            22735 non-null  object        \n",
      " 37  edo_venta           22735 non-null  object        \n",
      " 38  curp                22735 non-null  object        \n",
      "dtypes: datetime64[ns](3), float64(8), int64(14), object(14)\n",
      "memory usage: 6.8+ MB\n"
     ]
    }
   ],
   "source": [
    "df = pd.read_excel(\"df_limpio.xlsx\")\n",
    "df.info()"
   ]
  },
  {
   "cell_type": "code",
   "execution_count": 188,
   "metadata": {},
   "outputs": [
    {
     "name": "stdout",
     "output_type": "stream",
     "text": [
      "<class 'pandas.core.frame.DataFrame'>\n",
      "RangeIndex: 22735 entries, 0 to 22734\n",
      "Data columns (total 14 columns):\n",
      " #   Column            Non-Null Count  Dtype  \n",
      "---  ------            --------------  -----  \n",
      " 0   plazo             22735 non-null  int64  \n",
      " 1   precio            22735 non-null  float64\n",
      " 2   enganche          22735 non-null  float64\n",
      " 3   semana            22735 non-null  int64  \n",
      " 4   monto_financiado  22735 non-null  float64\n",
      " 5   costo_total       22735 non-null  int64  \n",
      " 6   pagos_realizados  22735 non-null  int64  \n",
      " 7   puntos            22735 non-null  int64  \n",
      " 8   riesgo            22735 non-null  float64\n",
      " 9   score_buro        22735 non-null  int64  \n",
      " 10  porc_eng          22735 non-null  float64\n",
      " 11  limite_credito    22735 non-null  int64  \n",
      " 12  semana_actual     22735 non-null  int64  \n",
      " 13  edad_cliente      9627 non-null   float64\n",
      "dtypes: float64(6), int64(8)\n",
      "memory usage: 2.4 MB\n"
     ]
    }
   ],
   "source": [
    "#plazo - precio - enganche - semana - montofinanciado - costototal - pagosrealizados - statuscuenta - porceng - limite crédito (porcentaje financiado vs el otorgado) - semanaActual -\n",
    "Ev = df.iloc[ : , [6,7,8,10,11,12,20,25,26,27,29,30,31,33]]\n",
    "Ev.info()"
   ]
  },
  {
   "cell_type": "code",
   "execution_count": 189,
   "metadata": {},
   "outputs": [
    {
     "name": "stdout",
     "output_type": "stream",
     "text": [
      "<class 'pandas.core.frame.DataFrame'>\n",
      "Index: 22614 entries, 0 to 22734\n",
      "Data columns (total 14 columns):\n",
      " #   Column            Non-Null Count  Dtype  \n",
      "---  ------            --------------  -----  \n",
      " 0   plazo             22614 non-null  int64  \n",
      " 1   precio            22614 non-null  float64\n",
      " 2   enganche          22614 non-null  float64\n",
      " 3   semana            22614 non-null  int64  \n",
      " 4   monto_financiado  22614 non-null  float64\n",
      " 5   costo_total       22614 non-null  int64  \n",
      " 6   pagos_realizados  22614 non-null  int64  \n",
      " 7   puntos            22614 non-null  int64  \n",
      " 8   riesgo            22614 non-null  float64\n",
      " 9   score_buro        22614 non-null  int64  \n",
      " 10  porc_eng          22614 non-null  float64\n",
      " 11  limite_credito    22614 non-null  int64  \n",
      " 12  semana_actual     22614 non-null  int64  \n",
      " 13  edad_cliente      9585 non-null   float64\n",
      "dtypes: float64(6), int64(8)\n",
      "memory usage: 2.6 MB\n"
     ]
    }
   ],
   "source": [
    "Ev = Ev[(Ev[\"limite_credito\"]>0)]\n",
    "Ev.info()"
   ]
  },
  {
   "cell_type": "code",
   "execution_count": 190,
   "metadata": {},
   "outputs": [],
   "source": [
    "#Encontramos el punto de equilibrio\n",
    "Ev[\"PE\"] = Ev[\"semana\"]*Ev[\"pagos_realizados\"]\n",
    "#Porcentaje monto financiado\n",
    "Ev[\"porcFinan\"] = (Ev[\"monto_financiado\"]/Ev[\"limite_credito\"])*100"
   ]
  },
  {
   "cell_type": "code",
   "execution_count": 191,
   "metadata": {},
   "outputs": [
    {
     "name": "stdout",
     "output_type": "stream",
     "text": [
      "       plazo  precio  enganche  semana  monto_financiado  costo_total  \\\n",
      "0         26  1949.0     780.0      81            1169.0         2106   \n",
      "1         13  2999.0    1050.0     225            1949.0         2925   \n",
      "3         13  1959.0     490.0     170            1469.0         2210   \n",
      "4         39  4299.0    1075.0     178            3224.0         6942   \n",
      "5         26  2999.0     750.0     156            2249.0         4056   \n",
      "...      ...     ...       ...     ...               ...          ...   \n",
      "22730     26  3349.0     297.0     211            3052.0         5486   \n",
      "22731     26  4100.0    1209.0     200            2891.0         5200   \n",
      "22732     26  4849.0    1152.0     256            3697.0         6656   \n",
      "22733     39  9799.0    2799.0     386            7000.0        15054   \n",
      "22734     26  5399.0    1086.0     299            4313.0         7774   \n",
      "\n",
      "       pagos_realizados  puntos  riesgo  score_buro  porc_eng  limite_credito  \\\n",
      "0                     0       0    0.00           0     40.02            5000   \n",
      "1                     0       0    0.00           0     35.01            6000   \n",
      "3                     0       0    0.00           0     25.01            7000   \n",
      "4                     0       0    0.00           0     25.01            7000   \n",
      "5                     0       0    0.00           0     25.01            7000   \n",
      "...                 ...     ...     ...         ...       ...             ...   \n",
      "22730                 0      10   27.40         469      8.87           10000   \n",
      "22731                 0       9   19.00         502     29.49            5000   \n",
      "22732                 0      11   26.65         459     23.76            4750   \n",
      "22733                 0      14  -17.35         699     28.56            7000   \n",
      "22734                 0      12   21.80           0     20.11            4750   \n",
      "\n",
      "       semana_actual  edad_cliente  PE   porcFinan              VR  \n",
      "0                 26          23.0   0   23.380000  NoCompletóPago  \n",
      "1                 13          60.0   0   32.483333  NoCompletóPago  \n",
      "3                 13          42.0   0   20.985714  NoCompletóPago  \n",
      "4                 74          33.0   0   46.057143  NoCompletóPago  \n",
      "5                 26          38.0   0   32.128571  NoCompletóPago  \n",
      "...              ...           ...  ..         ...             ...  \n",
      "22730              0           NaN   0   30.520000  NoCompletóPago  \n",
      "22731              0           NaN   0   57.820000  NoCompletóPago  \n",
      "22732              0           NaN   0   77.831579  NoCompletóPago  \n",
      "22733              0           NaN   0  100.000000  NoCompletóPago  \n",
      "22734              0           NaN   0   90.800000  NoCompletóPago  \n",
      "\n",
      "[22614 rows x 17 columns]\n"
     ]
    }
   ],
   "source": [
    "\n",
    "\n",
    "# Aplicar una condición if para comparar las dos columnas y obtener un resultado\n",
    "def comparar_pagos(row):\n",
    "    if row['monto_financiado'] > row['PE']:\n",
    "        return \"NoCompletóPago\"\n",
    "    elif row['PE'] > row['monto_financiado']:\n",
    "        return \"CompletóPago\"\n",
    "    else:\n",
    "        return \"Igual\"\n",
    "\n",
    "# Aplicar la función y crear una nueva columna con los resultados\n",
    "Ev['VR'] = Ev.apply(comparar_pagos, axis=1)\n",
    "\n",
    "# Mostrar el DataFrame resultante\n",
    "print(Ev)\n"
   ]
  },
  {
   "cell_type": "code",
   "execution_count": 192,
   "metadata": {},
   "outputs": [
    {
     "data": {
      "text/plain": [
       "VR\n",
       "NoCompletóPago    14556\n",
       "CompletóPago       8058\n",
       "Name: count, dtype: int64"
      ]
     },
     "execution_count": 192,
     "metadata": {},
     "output_type": "execute_result"
    }
   ],
   "source": [
    "frecuenciaVR = Ev[\"VR\"].value_counts()\n",
    "frecuenciaVR"
   ]
  },
  {
   "cell_type": "code",
   "execution_count": 193,
   "metadata": {},
   "outputs": [],
   "source": [
    "X = Ev[[\"porcFinan\",\"score_buro\",\"plazo\",\"precio\",\"enganche\",\"puntos\",\"monto_financiado\",\"costo_total\"]]\n",
    "y = Ev[[\"VR\"]]"
   ]
  },
  {
   "cell_type": "code",
   "execution_count": 194,
   "metadata": {},
   "outputs": [],
   "source": [
    "X_train, X_test, y_train, y_test = train_test_split(X, y, test_size=0.3)\n"
   ]
  },
  {
   "cell_type": "code",
   "execution_count": 195,
   "metadata": {},
   "outputs": [
    {
     "name": "stderr",
     "output_type": "stream",
     "text": [
      "c:\\Users\\Carlos Casillas\\AppData\\Local\\Programs\\Python\\Python311\\Lib\\site-packages\\sklearn\\utils\\validation.py:1184: DataConversionWarning: A column-vector y was passed when a 1d array was expected. Please change the shape of y to (n_samples, ), for example using ravel().\n",
      "  y = column_or_1d(y, warn=True)\n"
     ]
    },
    {
     "data": {
      "text/html": [
       "<style>#sk-container-id-12 {color: black;}#sk-container-id-12 pre{padding: 0;}#sk-container-id-12 div.sk-toggleable {background-color: white;}#sk-container-id-12 label.sk-toggleable__label {cursor: pointer;display: block;width: 100%;margin-bottom: 0;padding: 0.3em;box-sizing: border-box;text-align: center;}#sk-container-id-12 label.sk-toggleable__label-arrow:before {content: \"▸\";float: left;margin-right: 0.25em;color: #696969;}#sk-container-id-12 label.sk-toggleable__label-arrow:hover:before {color: black;}#sk-container-id-12 div.sk-estimator:hover label.sk-toggleable__label-arrow:before {color: black;}#sk-container-id-12 div.sk-toggleable__content {max-height: 0;max-width: 0;overflow: hidden;text-align: left;background-color: #f0f8ff;}#sk-container-id-12 div.sk-toggleable__content pre {margin: 0.2em;color: black;border-radius: 0.25em;background-color: #f0f8ff;}#sk-container-id-12 input.sk-toggleable__control:checked~div.sk-toggleable__content {max-height: 200px;max-width: 100%;overflow: auto;}#sk-container-id-12 input.sk-toggleable__control:checked~label.sk-toggleable__label-arrow:before {content: \"▾\";}#sk-container-id-12 div.sk-estimator input.sk-toggleable__control:checked~label.sk-toggleable__label {background-color: #d4ebff;}#sk-container-id-12 div.sk-label input.sk-toggleable__control:checked~label.sk-toggleable__label {background-color: #d4ebff;}#sk-container-id-12 input.sk-hidden--visually {border: 0;clip: rect(1px 1px 1px 1px);clip: rect(1px, 1px, 1px, 1px);height: 1px;margin: -1px;overflow: hidden;padding: 0;position: absolute;width: 1px;}#sk-container-id-12 div.sk-estimator {font-family: monospace;background-color: #f0f8ff;border: 1px dotted black;border-radius: 0.25em;box-sizing: border-box;margin-bottom: 0.5em;}#sk-container-id-12 div.sk-estimator:hover {background-color: #d4ebff;}#sk-container-id-12 div.sk-parallel-item::after {content: \"\";width: 100%;border-bottom: 1px solid gray;flex-grow: 1;}#sk-container-id-12 div.sk-label:hover label.sk-toggleable__label {background-color: #d4ebff;}#sk-container-id-12 div.sk-serial::before {content: \"\";position: absolute;border-left: 1px solid gray;box-sizing: border-box;top: 0;bottom: 0;left: 50%;z-index: 0;}#sk-container-id-12 div.sk-serial {display: flex;flex-direction: column;align-items: center;background-color: white;padding-right: 0.2em;padding-left: 0.2em;position: relative;}#sk-container-id-12 div.sk-item {position: relative;z-index: 1;}#sk-container-id-12 div.sk-parallel {display: flex;align-items: stretch;justify-content: center;background-color: white;position: relative;}#sk-container-id-12 div.sk-item::before, #sk-container-id-12 div.sk-parallel-item::before {content: \"\";position: absolute;border-left: 1px solid gray;box-sizing: border-box;top: 0;bottom: 0;left: 50%;z-index: -1;}#sk-container-id-12 div.sk-parallel-item {display: flex;flex-direction: column;z-index: 1;position: relative;background-color: white;}#sk-container-id-12 div.sk-parallel-item:first-child::after {align-self: flex-end;width: 50%;}#sk-container-id-12 div.sk-parallel-item:last-child::after {align-self: flex-start;width: 50%;}#sk-container-id-12 div.sk-parallel-item:only-child::after {width: 0;}#sk-container-id-12 div.sk-dashed-wrapped {border: 1px dashed gray;margin: 0 0.4em 0.5em 0.4em;box-sizing: border-box;padding-bottom: 0.4em;background-color: white;}#sk-container-id-12 div.sk-label label {font-family: monospace;font-weight: bold;display: inline-block;line-height: 1.2em;}#sk-container-id-12 div.sk-label-container {text-align: center;}#sk-container-id-12 div.sk-container {/* jupyter's `normalize.less` sets `[hidden] { display: none; }` but bootstrap.min.css set `[hidden] { display: none !important; }` so we also need the `!important` here to be able to override the default hidden behavior on the sphinx rendered scikit-learn.org. See: https://github.com/scikit-learn/scikit-learn/issues/21755 */display: inline-block !important;position: relative;}#sk-container-id-12 div.sk-text-repr-fallback {display: none;}</style><div id=\"sk-container-id-12\" class=\"sk-top-container\"><div class=\"sk-text-repr-fallback\"><pre>LogisticRegression()</pre><b>In a Jupyter environment, please rerun this cell to show the HTML representation or trust the notebook. <br />On GitHub, the HTML representation is unable to render, please try loading this page with nbviewer.org.</b></div><div class=\"sk-container\" hidden><div class=\"sk-item\"><div class=\"sk-estimator sk-toggleable\"><input class=\"sk-toggleable__control sk-hidden--visually\" id=\"sk-estimator-id-12\" type=\"checkbox\" checked><label for=\"sk-estimator-id-12\" class=\"sk-toggleable__label sk-toggleable__label-arrow\">LogisticRegression</label><div class=\"sk-toggleable__content\"><pre>LogisticRegression()</pre></div></div></div></div></div>"
      ],
      "text/plain": [
       "LogisticRegression()"
      ]
     },
     "execution_count": 195,
     "metadata": {},
     "output_type": "execute_result"
    }
   ],
   "source": [
    "logistic_model = LogisticRegression()\n",
    "logistic_model.fit(X_train, y_train)"
   ]
  },
  {
   "cell_type": "code",
   "execution_count": 196,
   "metadata": {},
   "outputs": [],
   "source": [
    "y_pred = logistic_model.predict(X_test)\n"
   ]
  },
  {
   "cell_type": "code",
   "execution_count": 197,
   "metadata": {},
   "outputs": [
    {
     "name": "stdout",
     "output_type": "stream",
     "text": [
      "Accuracy: 0.68\n"
     ]
    }
   ],
   "source": [
    "accuracy = accuracy_score(y_test, y_pred)\n",
    "print(f'Accuracy: {accuracy:.2f}')"
   ]
  },
  {
   "cell_type": "code",
   "execution_count": 198,
   "metadata": {},
   "outputs": [
    {
     "name": "stdout",
     "output_type": "stream",
     "text": [
      "Confusion Matrix:\n",
      "[[ 590 1789]\n",
      " [ 402 4004]]\n"
     ]
    }
   ],
   "source": [
    "confusion = confusion_matrix(y_test, y_pred)\n",
    "print('Confusion Matrix:')\n",
    "print(confusion)"
   ]
  },
  {
   "cell_type": "code",
   "execution_count": 199,
   "metadata": {},
   "outputs": [
    {
     "name": "stdout",
     "output_type": "stream",
     "text": [
      "Classification Report:\n",
      "                precision    recall  f1-score   support\n",
      "\n",
      "  CompletóPago       0.59      0.25      0.35      2379\n",
      "NoCompletóPago       0.69      0.91      0.79      4406\n",
      "\n",
      "      accuracy                           0.68      6785\n",
      "     macro avg       0.64      0.58      0.57      6785\n",
      "  weighted avg       0.66      0.68      0.63      6785\n",
      "\n"
     ]
    }
   ],
   "source": [
    "class_report = classification_report(y_test, y_pred)\n",
    "print('Classification Report:')\n",
    "print(class_report)"
   ]
  }
 ],
 "metadata": {
  "kernelspec": {
   "display_name": "Python 3",
   "language": "python",
   "name": "python3"
  },
  "language_info": {
   "codemirror_mode": {
    "name": "ipython",
    "version": 3
   },
   "file_extension": ".py",
   "mimetype": "text/x-python",
   "name": "python",
   "nbconvert_exporter": "python",
   "pygments_lexer": "ipython3",
   "version": "3.11.4"
  }
 },
 "nbformat": 4,
 "nbformat_minor": 2
}
